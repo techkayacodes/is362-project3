{
  "metadata": {
    "kernelspec": {
      "name": "python",
      "display_name": "Python (Pyodide)",
      "language": "python"
    },
    "language_info": {
      "name": ""
    }
  },
  "nbformat_minor": 4,
  "nbformat": 4,
  "cells": [
    {
      "cell_type": "code",
      "source": "import sqlite3\nimport pandas as pd\n\n# Replace 'path/to/your/chinook.db' with the actual path where you saved the Chinook database\nconnection = sqlite3.connect('path/to/your/chinook.db')\n\n# SQL query to join customer, invoice, invoice item, track, and album tables\nquery = \"\"\"\nSELECT c.LastName, c.FirstName, t.Name AS TrackName, al.Title AS AlbumTitle\nFROM Customer c\nJOIN Invoice i ON c.CustomerId = i.CustomerId\nJOIN InvoiceLine il ON i.InvoiceId = il.InvoiceId\nJOIN Track t ON il.TrackId = t.TrackId\nJOIN Album al ON t.AlbumId = al.AlbumId\nORDER BY c.LastName, c.FirstName;\n\"\"\"\n\n# Read the SQL query into a DataFrame\ndf = pd.read_sql_query(query, connection)\n\n# Display the DataFrame\nprint(df.head())\n\n# Close the connection to the database\nconnection.close()",
      "metadata": {
        "trusted": true
      },
      "outputs": [],
      "execution_count": null
    },
    {
      "cell_type": "code",
      "source": "",
      "metadata": {
        "trusted": true
      },
      "outputs": [],
      "execution_count": null
    }
  ]
}